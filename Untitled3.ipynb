{
 "cells": [
  {
   "cell_type": "code",
   "execution_count": 1,
   "id": "2370e44d",
   "metadata": {},
   "outputs": [],
   "source": [
    "def myfunc(a,b,c=0):\n",
    "    return sum((a,b,c))"
   ]
  },
  {
   "cell_type": "code",
   "execution_count": 2,
   "id": "5b0b6a61",
   "metadata": {},
   "outputs": [
    {
     "data": {
      "text/plain": [
       "30"
      ]
     },
     "execution_count": 2,
     "metadata": {},
     "output_type": "execute_result"
    }
   ],
   "source": [
    "myfunc(10,20)"
   ]
  },
  {
   "cell_type": "code",
   "execution_count": 3,
   "id": "bd9539ea",
   "metadata": {},
   "outputs": [
    {
     "data": {
      "text/plain": [
       "60"
      ]
     },
     "execution_count": 3,
     "metadata": {},
     "output_type": "execute_result"
    }
   ],
   "source": [
    "myfunc(10,20,30)"
   ]
  },
  {
   "cell_type": "code",
   "execution_count": 4,
   "id": "12f98ddc",
   "metadata": {},
   "outputs": [
    {
     "ename": "TypeError",
     "evalue": "myfunc() takes from 2 to 3 positional arguments but 4 were given",
     "output_type": "error",
     "traceback": [
      "\u001b[0;31m---------------------------------------------------------------------------\u001b[0m",
      "\u001b[0;31mTypeError\u001b[0m                                 Traceback (most recent call last)",
      "\u001b[0;32m<ipython-input-4-61818ee75c2a>\u001b[0m in \u001b[0;36m<module>\u001b[0;34m\u001b[0m\n\u001b[0;32m----> 1\u001b[0;31m \u001b[0mmyfunc\u001b[0m\u001b[0;34m(\u001b[0m\u001b[0;36m10\u001b[0m\u001b[0;34m,\u001b[0m\u001b[0;36m20\u001b[0m\u001b[0;34m,\u001b[0m\u001b[0;36m30\u001b[0m\u001b[0;34m,\u001b[0m\u001b[0;36m10\u001b[0m\u001b[0;34m)\u001b[0m\u001b[0;34m\u001b[0m\u001b[0;34m\u001b[0m\u001b[0m\n\u001b[0m",
      "\u001b[0;31mTypeError\u001b[0m: myfunc() takes from 2 to 3 positional arguments but 4 were given"
     ]
    }
   ],
   "source": [
    "myfunc(10,20,30,10)"
   ]
  },
  {
   "cell_type": "code",
   "execution_count": 5,
   "id": "401dd2b1",
   "metadata": {},
   "outputs": [],
   "source": [
    "def func(*args):\n",
    "    return sum(args)"
   ]
  },
  {
   "cell_type": "code",
   "execution_count": 6,
   "id": "44acb8d2",
   "metadata": {},
   "outputs": [
    {
     "data": {
      "text/plain": [
       "70"
      ]
     },
     "execution_count": 6,
     "metadata": {},
     "output_type": "execute_result"
    }
   ],
   "source": [
    "func(10,20,20,20)"
   ]
  },
  {
   "cell_type": "code",
   "execution_count": 7,
   "id": "aa1e17b0",
   "metadata": {},
   "outputs": [
    {
     "data": {
      "text/plain": [
       "19"
      ]
     },
     "execution_count": 7,
     "metadata": {},
     "output_type": "execute_result"
    }
   ],
   "source": [
    "func(10,0,9)"
   ]
  },
  {
   "cell_type": "code",
   "execution_count": 8,
   "id": "ef7b7e15",
   "metadata": {},
   "outputs": [],
   "source": [
    "def fun(*args):\n",
    "    print(args)"
   ]
  },
  {
   "cell_type": "code",
   "execution_count": 9,
   "id": "bf69ede4",
   "metadata": {},
   "outputs": [
    {
     "name": "stdout",
     "output_type": "stream",
     "text": [
      "(1, 2, 3, 2, 4)\n"
     ]
    }
   ],
   "source": [
    "fun(1,2,3,2,4)"
   ]
  },
  {
   "cell_type": "code",
   "execution_count": 10,
   "id": "f8e4ea22",
   "metadata": {},
   "outputs": [],
   "source": [
    "def funs(*args):\n",
    "    print(*args)"
   ]
  },
  {
   "cell_type": "code",
   "execution_count": 11,
   "id": "19709186",
   "metadata": {},
   "outputs": [
    {
     "name": "stdout",
     "output_type": "stream",
     "text": [
      "1 2 3 4\n"
     ]
    }
   ],
   "source": [
    "funs(1,2,3,4)"
   ]
  },
  {
   "cell_type": "code",
   "execution_count": 12,
   "id": "a2fa63fa",
   "metadata": {},
   "outputs": [],
   "source": [
    "t=(1,2,3)"
   ]
  },
  {
   "cell_type": "code",
   "execution_count": 13,
   "id": "6e7cd8fb",
   "metadata": {},
   "outputs": [
    {
     "name": "stdout",
     "output_type": "stream",
     "text": [
      "1 2 3\n"
     ]
    }
   ],
   "source": [
    "print(*t)"
   ]
  },
  {
   "cell_type": "code",
   "execution_count": 21,
   "id": "c916e094",
   "metadata": {},
   "outputs": [],
   "source": [
    "def myfunc(**kwargs):\n",
    "    if 'fruit' in kwargs:\n",
    "        print(\"my fruit is data {}\".format(kwargs['fruit']))\n",
    "    else:\n",
    "        print(\"fruit is not there\")"
   ]
  },
  {
   "cell_type": "code",
   "execution_count": 22,
   "id": "2de22a3b",
   "metadata": {},
   "outputs": [
    {
     "name": "stdout",
     "output_type": "stream",
     "text": [
      "fruit is not there\n"
     ]
    }
   ],
   "source": [
    "myfunc(fruite=\"apple\",tree=\"onion\")"
   ]
  },
  {
   "cell_type": "code",
   "execution_count": 23,
   "id": "7fe2889a",
   "metadata": {},
   "outputs": [],
   "source": [
    "def myfunc(**jelly):\n",
    "    print(jelly)"
   ]
  },
  {
   "cell_type": "code",
   "execution_count": 24,
   "id": "30dde935",
   "metadata": {},
   "outputs": [
    {
     "name": "stdout",
     "output_type": "stream",
     "text": [
      "{'apple': 'helo', 'tree': 'banyan'}\n"
     ]
    }
   ],
   "source": [
    "myfunc(apple=\"helo\",tree=\"banyan\")"
   ]
  },
  {
   "cell_type": "code",
   "execution_count": 25,
   "id": "880fad18",
   "metadata": {},
   "outputs": [],
   "source": [
    "def myfunc(*args,**kwargs):\n",
    "    print(\"foudn the value {} {}\".format(args[0],kwargs[\"fruit\"]))"
   ]
  },
  {
   "cell_type": "code",
   "execution_count": 26,
   "id": "21da53f3",
   "metadata": {},
   "outputs": [
    {
     "name": "stdout",
     "output_type": "stream",
     "text": [
      "foudn the value 10 apple\n"
     ]
    }
   ],
   "source": [
    "myfunc(10,20,40,fruit=\"apple\",tree=\"papaya\",vegg=\"new_veg\")"
   ]
  },
  {
   "cell_type": "code",
   "execution_count": 27,
   "id": "38ec5ebb",
   "metadata": {},
   "outputs": [],
   "source": [
    "def square(num):\n",
    "    return num**2"
   ]
  },
  {
   "cell_type": "code",
   "execution_count": 28,
   "id": "48da3c12",
   "metadata": {},
   "outputs": [],
   "source": [
    "my_name=[1,2,3,4,5]"
   ]
  },
  {
   "cell_type": "code",
   "execution_count": 29,
   "id": "281e711b",
   "metadata": {},
   "outputs": [
    {
     "data": {
      "text/plain": [
       "[1, 4, 9, 16, 25]"
      ]
     },
     "execution_count": 29,
     "metadata": {},
     "output_type": "execute_result"
    }
   ],
   "source": [
    "list(map(square,my_name))"
   ]
  },
  {
   "cell_type": "code",
   "execution_count": 30,
   "id": "2f17b0bd",
   "metadata": {},
   "outputs": [
    {
     "name": "stdout",
     "output_type": "stream",
     "text": [
      "1\n",
      "4\n",
      "9\n",
      "16\n",
      "25\n"
     ]
    }
   ],
   "source": [
    "for item in map(square,my_name):\n",
    "    print(item)"
   ]
  },
  {
   "cell_type": "code",
   "execution_count": 31,
   "id": "65389168",
   "metadata": {},
   "outputs": [],
   "source": [
    "from random import shuffle"
   ]
  },
  {
   "cell_type": "code",
   "execution_count": 32,
   "id": "5552ac56",
   "metadata": {},
   "outputs": [],
   "source": [
    "my_list=[1,2,3,4,5]"
   ]
  },
  {
   "cell_type": "code",
   "execution_count": 33,
   "id": "aba807ea",
   "metadata": {},
   "outputs": [
    {
     "ename": "NameError",
     "evalue": "name 'my_lsit' is not defined",
     "output_type": "error",
     "traceback": [
      "\u001b[0;31m---------------------------------------------------------------------------\u001b[0m",
      "\u001b[0;31mNameError\u001b[0m                                 Traceback (most recent call last)",
      "\u001b[0;32m<ipython-input-33-05ad4e007e91>\u001b[0m in \u001b[0;36m<module>\u001b[0;34m\u001b[0m\n\u001b[0;32m----> 1\u001b[0;31m \u001b[0mshuffle\u001b[0m\u001b[0;34m(\u001b[0m\u001b[0mmy_lsit\u001b[0m\u001b[0;34m)\u001b[0m\u001b[0;34m\u001b[0m\u001b[0;34m\u001b[0m\u001b[0m\n\u001b[0m",
      "\u001b[0;31mNameError\u001b[0m: name 'my_lsit' is not defined"
     ]
    }
   ],
   "source": [
    "shuffle(my_lsit)"
   ]
  },
  {
   "cell_type": "code",
   "execution_count": 34,
   "id": "f99d701a",
   "metadata": {},
   "outputs": [],
   "source": [
    "shuffle(my_list)"
   ]
  },
  {
   "cell_type": "code",
   "execution_count": 36,
   "id": "97359c6d",
   "metadata": {},
   "outputs": [
    {
     "data": {
      "text/plain": [
       "[1, 4, 2, 5, 3]"
      ]
     },
     "execution_count": 36,
     "metadata": {},
     "output_type": "execute_result"
    }
   ],
   "source": [
    "my_list"
   ]
  },
  {
   "cell_type": "code",
   "execution_count": 37,
   "id": "b749e076",
   "metadata": {},
   "outputs": [],
   "source": [
    "shuffle(my_list)"
   ]
  },
  {
   "cell_type": "code",
   "execution_count": 38,
   "id": "fb6f9416",
   "metadata": {},
   "outputs": [
    {
     "data": {
      "text/plain": [
       "[1, 5, 3, 2, 4]"
      ]
     },
     "execution_count": 38,
     "metadata": {},
     "output_type": "execute_result"
    }
   ],
   "source": [
    "my_list"
   ]
  },
  {
   "cell_type": "code",
   "execution_count": 39,
   "id": "db1e9e11",
   "metadata": {},
   "outputs": [],
   "source": [
    "def player_guess():\n",
    "    guess=\"\"\n",
    "    while guess not in [\"0\",\"1\",\"2\"]:\n",
    "        guess=input(\"pick no 0,1 or 2\")\n",
    "    return int(guess)"
   ]
  },
  {
   "cell_type": "code",
   "execution_count": 40,
   "id": "3660b3f8",
   "metadata": {},
   "outputs": [
    {
     "name": "stdout",
     "output_type": "stream",
     "text": [
      "pick no 0,1 or 29\n",
      "pick no 0,1 or 21\n"
     ]
    },
    {
     "data": {
      "text/plain": [
       "1"
      ]
     },
     "execution_count": 40,
     "metadata": {},
     "output_type": "execute_result"
    }
   ],
   "source": [
    "player_guess()"
   ]
  },
  {
   "cell_type": "code",
   "execution_count": 41,
   "id": "116997ee",
   "metadata": {},
   "outputs": [],
   "source": [
    "my_string=\"hello\""
   ]
  },
  {
   "cell_type": "code",
   "execution_count": 42,
   "id": "6fe7e8cd",
   "metadata": {},
   "outputs": [],
   "source": [
    "l=[letter for letter in my_string]"
   ]
  },
  {
   "cell_type": "code",
   "execution_count": 43,
   "id": "4ba5f5d3",
   "metadata": {},
   "outputs": [
    {
     "data": {
      "text/plain": [
       "['h', 'e', 'l', 'l', 'o']"
      ]
     },
     "execution_count": 43,
     "metadata": {},
     "output_type": "execute_result"
    }
   ],
   "source": [
    "l"
   ]
  },
  {
   "cell_type": "code",
   "execution_count": 44,
   "id": "a6302725",
   "metadata": {},
   "outputs": [],
   "source": [
    "my_list=[x for x in range(0,11)]"
   ]
  },
  {
   "cell_type": "code",
   "execution_count": 45,
   "id": "81167b22",
   "metadata": {},
   "outputs": [
    {
     "data": {
      "text/plain": [
       "[0, 1, 2, 3, 4, 5, 6, 7, 8, 9, 10]"
      ]
     },
     "execution_count": 45,
     "metadata": {},
     "output_type": "execute_result"
    }
   ],
   "source": [
    "my_list"
   ]
  },
  {
   "cell_type": "code",
   "execution_count": 46,
   "id": "303b4813",
   "metadata": {},
   "outputs": [],
   "source": [
    "my_list=[x*y for x in [1,4,6] for y in [2,3,4]]"
   ]
  },
  {
   "cell_type": "code",
   "execution_count": 47,
   "id": "9c86a937",
   "metadata": {},
   "outputs": [
    {
     "data": {
      "text/plain": [
       "[2, 3, 4, 8, 12, 16, 12, 18, 24]"
      ]
     },
     "execution_count": 47,
     "metadata": {},
     "output_type": "execute_result"
    }
   ],
   "source": [
    "my_list"
   ]
  },
  {
   "cell_type": "code",
   "execution_count": 48,
   "id": "ce009a09",
   "metadata": {},
   "outputs": [],
   "source": [
    "my_list1=[1,2,3,4,4]"
   ]
  },
  {
   "cell_type": "code",
   "execution_count": 49,
   "id": "7d5d8ef7",
   "metadata": {},
   "outputs": [],
   "source": [
    "my_list2=[4,5,3,2]"
   ]
  },
  {
   "cell_type": "code",
   "execution_count": 51,
   "id": "c86ab588",
   "metadata": {},
   "outputs": [
    {
     "name": "stdout",
     "output_type": "stream",
     "text": [
      "1 4\n",
      "2 5\n",
      "3 3\n",
      "4 2\n"
     ]
    }
   ],
   "source": [
    "for item,sec in zip(my_list1,my_list2):\n",
    "    print(item,sec)\n",
    "    "
   ]
  },
  {
   "cell_type": "code",
   "execution_count": 52,
   "id": "86b395f9",
   "metadata": {},
   "outputs": [],
   "source": [
    "#filter ,map and lambda expression in python"
   ]
  },
  {
   "cell_type": "code",
   "execution_count": 53,
   "id": "1facb7c4",
   "metadata": {},
   "outputs": [],
   "source": [
    "def square(num):\n",
    "    return num*num"
   ]
  },
  {
   "cell_type": "code",
   "execution_count": 54,
   "id": "f7007a25",
   "metadata": {},
   "outputs": [
    {
     "data": {
      "text/plain": [
       "[9, 4, 1, 16]"
      ]
     },
     "execution_count": 54,
     "metadata": {},
     "output_type": "execute_result"
    }
   ],
   "source": [
    "list(map(square,[3,2,1,4]))"
   ]
  },
  {
   "cell_type": "code",
   "execution_count": 55,
   "id": "95a1f0ce",
   "metadata": {},
   "outputs": [
    {
     "data": {
      "text/plain": [
       "[2, 4, 8]"
      ]
     },
     "execution_count": 55,
     "metadata": {},
     "output_type": "execute_result"
    }
   ],
   "source": [
    "list(filter(lambda x:x%2==0,[2,3,4,5,8]))"
   ]
  },
  {
   "cell_type": "code",
   "execution_count": null,
   "id": "98579eb4",
   "metadata": {},
   "outputs": [],
   "source": []
  }
 ],
 "metadata": {
  "kernelspec": {
   "display_name": "Python 3",
   "language": "python",
   "name": "python3"
  },
  "language_info": {
   "codemirror_mode": {
    "name": "ipython",
    "version": 3
   },
   "file_extension": ".py",
   "mimetype": "text/x-python",
   "name": "python",
   "nbconvert_exporter": "python",
   "pygments_lexer": "ipython3",
   "version": "3.8.8"
  }
 },
 "nbformat": 4,
 "nbformat_minor": 5
}
